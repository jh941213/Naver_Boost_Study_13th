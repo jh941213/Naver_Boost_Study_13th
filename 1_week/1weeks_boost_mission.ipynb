{
  "nbformat": 4,
  "nbformat_minor": 0,
  "metadata": {
    "colab": {
      "provenance": []
    },
    "kernelspec": {
      "name": "python3",
      "display_name": "Python 3"
    },
    "language_info": {
      "name": "python"
    }
  },
  "cells": [
    {
      "cell_type": "markdown",
      "source": [
        "## 📌 Q1. 설문조사 응답내역 분석하기\n",
        "\n",
        "여러분은 파이썬을 통해 설문조사 문항의 응답내역을 분석하게 되었습니다. 문항별 응답내용에는 하나의 응답만 할 수 있는 **single choice** 문제와 여러 응답을 선택할 수 있는 **multiple choice** 문제가 있습니다. 2개를 구분하기 위해 single choice 문항 번호에 \"_\"를 표기하지 않기로 했습니다.\n",
        "\n",
        "문항별 응답내역이 `question`에 담겨 있을 때, 조건문과 반복문을 사용하여 아래와 같은 결과가 출력되도록 코드를 작성해보세요.\n",
        "\n",
        "### 요구사항\n",
        "- Single choice와 multiple choice를 구분하여 처리합니다.\n",
        "- Single choice 문항 번호에는 \"_\"가 표기되지 않습니다."
      ],
      "metadata": {
        "id": "zxnpEwppwMm0"
      }
    },
    {
      "cell_type": "markdown",
      "source": [
        "## 🔽 출력 예시\n",
        "\n",
        "```plaintext\n",
        "['Q2', 'Q3', 'Q4', 'Q5', 'Q8', 'Q9']\n",
        "```\n",
        "\n",
        "```plaintext\n",
        "# 응답 설문 문항\n",
        "question = ['Q2', 'Q3', 'Q4', 'Q5', 'Q6_1', 'Q6_2', 'Q6_3', 'Q6_4', 'Q6_5', 'Q6_6',\n",
        "       'Q6_7', 'Q6_8', 'Q6_9', 'Q6_10', 'Q6_11', 'Q6_12', 'Q7_1', 'Q7_2',\n",
        "       'Q7_3', 'Q7_4', 'Q7_5', 'Q7_6', 'Q7_7', 'Q8', 'Q9', 'Q10_1', 'Q10_2',\n",
        "       'Q10_3']​\n",
        "```"
      ],
      "metadata": {
        "id": "PJDGTXn1wb-B"
      }
    },
    {
      "cell_type": "code",
      "execution_count": null,
      "metadata": {
        "id": "z8c6bTncwEl4"
      },
      "outputs": [],
      "source": [
        "question = ['Q2', 'Q3', 'Q4', 'Q5', 'Q6_1', 'Q6_2', 'Q6_3', 'Q6_4', 'Q6_5', 'Q6_6',\n",
        "       'Q6_7', 'Q6_8', 'Q6_9', 'Q6_10', 'Q6_11', 'Q6_12', 'Q7_1', 'Q7_2',\n",
        "       'Q7_3', 'Q7_4', 'Q7_5', 'Q7_6', 'Q7_7', 'Q8', 'Q9', 'Q10_1', 'Q10_2',\n",
        "       'Q10_3']\n",
        "\n",
        "# 결과를 저장할 두 개의 리스트를 초기화합니다.\n",
        "single_choice = []\n",
        "multiple_choice = []\n",
        "\n",
        "# 각 문항을 확인하여 \"_\" 문자의 유무에 따라 해당 리스트에 추가합니다.\n",
        "for q in question:\n",
        "    if \"_\" in q:\n",
        "        multiple_choice.append(q)\n",
        "    else:\n",
        "        single_choice.append(q)\n",
        "\n",
        "# 결과를 출력합니다.\n",
        "print(\"Single Choice Questions:\", \", \".join(single_choice))\n",
        "print(\"Multiple Choice Questions:\", \", \".join(multiple_choice))\n"
      ]
    },
    {
      "cell_type": "markdown",
      "source": [
        "## 📌Q2. 한스 로슬링의 데이터 활용하기\n",
        "\n",
        "**한스 로슬링(Hans Rosling, 1948년 7월 27일 ~ 2017년 2월 7일)**은 스웨덴의 의사이자 통계학자로, 비영리 벤처 갭마인더 재단의 공동설립자이기도 합니다. 그는 빅데이터를 가장 잘 활용하는 보건 통계학자로 알려져 있으며, 베스트셀러 책인 **\"팩트풀니스\"**의 저자이기도 합니다. 갭마인더 사이트에서는 연도별, 국가별 GDP와 기대수명 데이터를 제공하고 있습니다. 대표적으로 파이썬 라이브러리 중 'seaborn'에서 제공되는 예제 데이터가 있습니다. 오늘은 이 데이터를 활용해 문제를 풀어보겠습니다.\n",
        "\n",
        "### 데이터 분석 요구사항\n",
        "- 다음의 데이터는 연도, 국가별 기대수명을 나타내고 있는 데이터 입니다.\n",
        "- 2011년 부터의 연도별, 국가별 평균 기대수명을 구해주세요. (2011년도 포함되게 구합니다.)\n",
        "\n",
        "### 필수 조건\n",
        "- `groupby` 나 `pivot_table`을 활용합니다.\n",
        "- `groupby` 로 구할 때 `unstack()`이라는 기능을 사용하여 아래와 같이 컬럼에 인덱스 값을 올려서 표기할 수 있습니다.\n",
        "- 만약 행에는 '연도'가, 열에 '국가'가 들어있고 수치 데이터의 결과값이 아래와 같다면, 출력형태는 조금 달라도 괜찮습니다.\n",
        "\n",
        "### 데이터 로딩 방법\n",
        "데이터는 다음의 방법으로 읽어옵니다.\n",
        "(이 부분에 데이터 로딩 코드를 넣어주세요.)\n",
        "\n",
        "```plaintext\n",
        "import pandas as pd\n",
        "df = pd.read_csv(\"https://raw.githubusercontent.com/mwaskom/seaborn-data/master/healthexp.csv\")\n",
        "df\n",
        "```\n",
        "\n",
        "🔽 출력 예시\n",
        "\n",
        "| Year | Canada | France | Germany | Great Britain | Japan | USA  |\n",
        "|------|--------|--------|---------|---------------|-------|------|\n",
        "| 2011 | 81.4   | 82.3   | 80.5    | 81.0          | 82.7  | 78.7 |\n",
        "| 2012 | 81.6   | 82.1   | 80.6    | 81.0          | 83.2  | 78.8 |\n",
        "| 2013 | 81.7   | 82.3   | 80.6    | 81.1          | 83.4  | 78.8 |\n",
        "| 2014 | 81.8   | 82.8   | 81.2    | 81.4          | 83.7  | 78.9 |\n",
        "| 2015 | 81.9   | 82.4   | 80.7    | 81.0          | 83.9  | 78.7 |\n",
        "| 2016 | 82.0   | 82.7   | 81.0    | 81.2          | 84.1  | 78.7 |\n",
        "| 2017 | 81.9   | 82.7   | 81.1    | 81.3          | 84.2  | 78.6 |\n",
        "| 2018 | 82.0   | 82.8   | 81.0    | 81.3          | 84.3  | 78.7 |\n",
        "| 2019 | 82.2   | 82.9   | 81.3    | 81.4          | 84.4  | 78.8 |\n",
        "| 2020 | 81.7   | 82.3   | 81.1    | 80.4          | 84.7  | 77.0 |\n",
        "\n"
      ],
      "metadata": {
        "id": "VHZNLQeRwqGg"
      }
    },
    {
      "cell_type": "code",
      "source": [
        "import pandas as pd\n",
        "\n",
        "# 데이터 로딩\n",
        "df = pd.read_csv(\"https://raw.githubusercontent.com/mwaskom/seaborn-data/master/healthexp.csv\")\n",
        "\n",
        "# 데이터 확인\n",
        "print(df.head())\n"
      ],
      "metadata": {
        "colab": {
          "base_uri": "https://localhost:8080/"
        },
        "id": "d6Y5TUP_wpdI",
        "outputId": "412d28a9-e609-46d0-8e30-f2aaf65f6475"
      },
      "execution_count": 1,
      "outputs": [
        {
          "output_type": "stream",
          "name": "stdout",
          "text": [
            "   Year        Country  Spending_USD  Life_Expectancy\n",
            "0  1970        Germany       252.311             70.6\n",
            "1  1970         France       192.143             72.2\n",
            "2  1970  Great Britain       123.993             71.9\n",
            "3  1970          Japan       150.437             72.0\n",
            "4  1970            USA       326.961             70.9\n"
          ]
        }
      ]
    },
    {
      "cell_type": "code",
      "source": [
        "# 2011년 이후 데이터 필터링\n",
        "df_filtered = df[df['Year'] >= 2011]\n",
        "\n",
        "# 연도별, 국가별 평균 기대수명 계산\n",
        "result = df_filtered.groupby(['Year', 'Country'])['Life_Expectancy'].mean().unstack()\n",
        "\n",
        "# 결과 출력\n",
        "print(result)"
      ],
      "metadata": {
        "colab": {
          "base_uri": "https://localhost:8080/"
        },
        "id": "U6SgJBr0xfKu",
        "outputId": "1bddb983-d134-430a-cf4e-929c7bfd3068"
      },
      "execution_count": 3,
      "outputs": [
        {
          "output_type": "stream",
          "name": "stdout",
          "text": [
            "Country  Canada  France  Germany  Great Britain  Japan   USA\n",
            "Year                                                        \n",
            "2011       81.4    82.3     80.5           81.0   82.7  78.7\n",
            "2012       81.6    82.1     80.6           81.0   83.2  78.8\n",
            "2013       81.7    82.3     80.6           81.1   83.4  78.8\n",
            "2014       81.8    82.8     81.2           81.4   83.7  78.9\n",
            "2015       81.9    82.4     80.7           81.0   83.9  78.7\n",
            "2016       82.0    82.7     81.0           81.2   84.1  78.7\n",
            "2017       81.9    82.7     81.1           81.3   84.2  78.6\n",
            "2018       82.0    82.8     81.0           81.3   84.3  78.7\n",
            "2019       82.2    82.9     81.3           81.4   84.4  78.8\n",
            "2020       81.7    82.3     81.1           80.4   84.7  77.0\n"
          ]
        }
      ]
    },
    {
      "cell_type": "markdown",
      "source": [
        "## 📌Q3. Jupyter Notebook의 특징\n",
        "\n",
        "**Jupyter Notebook**은 문서와 코드를 함께 작성할 수 있는 도구로, 이러한 특징이 큰 장점으로 작용합니다. Jupyter Notebook에서는 **Markdown** 문법을 사용하여 문서를 깔끔하게 정리할 수 있습니다.\n",
        "\n",
        "### 이번 주 학습 내용\n",
        "\n",
        "이번 주에는 다음과 같은 내용을 학습하였습니다. 자세한 내용은 아래의 링크를 참고해주세요!\n",
        "\n",
        "- [1주차 학습 내용](스터디 전용 강좌 1주차 학습 안내 링크)\n",
        "\n",
        "1. **데이터 분석 환경 구성**\n",
        "   - [강의 링크](https://www.boostcourse.org/ds112/joinLectures/28140)\n",
        "   \n",
        "2. **데이터 분석 준비하기**\n",
        "   - [강의 링크](https://www.boostcourse.org/ds112/joinLectures/28138)\n"
      ],
      "metadata": {
        "id": "GLVLS7QfyAgO"
      }
    },
    {
      "cell_type": "markdown",
      "source": [
        "## 📘 데이터 분석 환경 구성\n",
        "\n",
        "### 🚀 시작하기 전에...\n",
        "- **분석 목표 설정**\n",
        "  - 분석할 대상과 목적을 명확히 합니다.\n",
        "- **분석 도구 선정**\n",
        "  - 데이터 분석에 적합한 도구와 언어를 선택합니다.\n",
        "\n",
        "### 📚 레퍼런스 데이터\n",
        "- [공공데이터포털](https://www.data.go.kr/)\n",
        "\n",
        "### 💻 아나콘다 설치 및 활용\n",
        "- [아나콘다 다운로드](https://www.anaconda.com/download)\n",
        "- **아나콘다 특징**\n",
        "  - 파이썬과 R에 대한 다양한 패키지를 제공합니다.\n",
        "  - 데이터 분석, 머신러닝 등 다양한 영역에서 활용이 가능합니다.\n",
        "\n",
        "### 📝 주피터 노트북 사용법\n",
        "- **단축키 모음**\n",
        "  - `Enter` : 편집 상태로 전환\n",
        "  - `Shift + Enter` : 셀 실행 후 다음 셀로 이동\n",
        "  - `Ctrl + Enter` : 셀 실행\n",
        "  - `a` : 현재 셀 위에 새 셀 추가\n",
        "  - `b` : 현재 셀 아래에 새 셀 추가\n",
        "  - `dd` : 현재 셀 삭제\n",
        "  - `m` : 마크다운 셀로 전환\n",
        "  - `h` : 단축키 목록 보기\n",
        "- **마크다운 작성법**\n",
        "  - 코드와 함께 문서화가 가능합니다.\n",
        "  - 다양한 문법으로 텍스트를 꾸밀 수 있습니다.\n",
        "- **메뉴탭 활용**\n",
        "  - `View` -> `Toggle Line Numbers` : 라인 번호 표시/숨기기\n",
        "  - `Kernel` -> `Restart & Clear Output` : 커널 재시작 및 출력 클리어\n",
        "  - `Nbextensions` : 추가 기능 활용 (예: Table of Contents)\n",
        "\n",
        "---\n",
        "\n",
        "## 📘 데이터 분석 기법\n",
        "\n",
        "### 📊 Pandas 활용 기초\n",
        "- **파일 저장 및 불러오기**\n",
        "  - `.to_csv(\"파일명\", index=False)` : DataFrame을 CSV 파일로 저장\n",
        "  - `.read_csv(\"파일명\")` : CSV 파일을 DataFrame으로 불러오기\n",
        "- **데이터 살펴보기**\n",
        "  - `.shape` : 행과 열의 수 확인\n",
        "  - `.head()`, `.tail()`, `.sample()` : 데이터 일부를 미리보기\n",
        "- **데이터 정보 및 기술통계량 확인**\n",
        "  - `.info()` : 데이터 정보 요약\n",
        "  - `.describe()` : 기술통계량 확인\n",
        "  - `.unique()` : 유일한 값 확인\n",
        "  - `.index` : 인덱스 확인\n",
        "  - `.columns` : 컬럼명 확인\n",
        "  - `.values` : 값 확인\n",
        "\n",
        "### 📈 데이터 프레임과 시리즈\n",
        "- **DataFrame과 Series**\n",
        "  - `Series` : 1차원 배열\n",
        "  - `DataFrame` : 2차원 테이블\n",
        "\n",
        "### 🧐 데이터 색인하기\n",
        "- **색인 방법**\n",
        "  - `[컬럼]` : 컬럼 선택\n",
        "  - `.loc[행]` : 행 선택\n",
        "  - `.loc[행, 열]` : 행과 열 선택\n",
        "  - `.loc[조건식, 열]` : 조건에 맞는 데이터 선택\n",
        "\n",
        "### 🔄 데이터 타입 변환\n",
        "- **날짜 데이터 처리**\n",
        "  - 날짜 데이터를 적절한 형태로 변환하여 분석에 활용합니다.\n",
        "\n",
        "### 📑 데이터 다루기\n",
        "\n",
        "#### 정렬, 조건식, 그룹화 등의 다양한 데이터 조작 기법\n",
        "- **정렬하기**\n",
        "  - `.sort_values()` : 특정 컬럼의 값을 기준으로 데이터를 정렬합니다.\n",
        "- **조건식 사용**\n",
        "  - 데이터 프레임에서 조건을 만족하는 행 또는 열을 선택합니다.\n",
        "- **데이터 그룹화**\n",
        "  - `.groupby()` : 하나 이상의 컬럼을 기준으로 데이터를 그룹화하고, 그룹별로 집계함수를 적용합니다.\n",
        "- **피벗 테이블 생성**\n",
        "  - `.pivot_table()` : 데이터를 피벗 테이블 형태로 재구조화합니다.\n",
        "\n",
        "### 📊 빈도수 및 통계량 계산\n",
        "\n",
        "#### 빈도수 계산 및 그룹별 통계량 확인\n",
        "- **빈도수 계산**\n",
        "  - `.value_counts()` : 하나의 변수의 빈도수를 계산합니다.\n",
        "  - `pd.crosstab()` : 두 변수 간의 교차 빈도수를 계산합니다.\n",
        "- **그룹별 통계량**\n",
        "  - `.groupby()`와 다양한 집계함수를 활용하여 그룹별 통계량을 계산합니다.\n",
        "\n",
        "### 🔄 데이터 변환\n",
        "\n",
        "#### 데이터의 형태를 변환하고, 여러 데이터를 병합하기\n",
        "- **데이터 재구조화**\n",
        "  - `.melt()`, `.pivot()` 등의 함수를 활용하여 데이터의 형태를 변환합니다.\n",
        "- **데이터 병합**\n",
        "  - `.merge()`, `.concat()` 등의 함수를 활용하여 여러 데이터를 하나로 병합합니다.\n",
        "\n",
        "### 📉 데이터 분석 실습\n",
        "\n",
        "#### 실제 데이터를 활용한 분석 실습\n",
        "- **데이터 분석 프로세스 실습**\n",
        "  - 데이터 로딩, 전처리, 탐색적 데이터 분석(EDA), 기초 통계 분석 등의 단계를 거쳐 데이터 분석을 진행해봅니다.\n",
        "\n",
        "### 🚀 마치며\n",
        "\n",
        "데이터 분석은 다양한 단계와 기법을 포함하고 있습니다. 위의 내용을 바탕으로 앞으로 더욱 열심히 학습해보아요 - 미남홀란드"
      ],
      "metadata": {
        "id": "oxyHzdjMyo2u"
      }
    },
    {
      "cell_type": "markdown",
      "source": [
        "## 📌Q4. 데이터 다루기 연습 및 문제 고민 시간!\n",
        "\n",
        "앞으로의 여정에서 우리는 **공공데이터포털**에서 다양한 데이터를 다운로드 받아 분석해볼 예정입니다. 그럼 본격적인 학습에 앞서, 데이터 다루기의 기본을 다져봅시다! 또한, 어떤 문제를 풀어볼 수 있을지 함께 고민해보아요!\n",
        "\n",
        "#### 🚀 데이터 불러오기 연습!\n",
        "\n",
        "1. **공공데이터포털**에서 원하는 데이터를 다운로드 받습니다.\n",
        "2. 데이터의 경로를 설정하고, **주피터 노트북**과 **판다스**를 활용하여 데이터를 불러옵니다.\n",
        "\n",
        "👉 만약 어떤 데이터를 선택해야 할지 고민이 된다면, 아래 링크의 데이터를 활용해도 좋습니다.\n",
        "\n",
        "- [참고 예시] [공공데이터포털 - 서울특별시 강남구_생활폐기물배출량](데이터_링크_여기에_붙여주세요)\n",
        "\n",
        "📝 **Note**: 데이터를 불러올 때 인코딩 오류가 발생한다면 `encoding=\"cp949\"` 옵션을 사용해 주세요! `cp949`는 한글 윈도우에서 사용하는 인코딩 방식입니다. 인코딩에 대한 더 많은 정보는 아래 링크에서 확인하실 수 있습니다.\n",
        "\n",
        "- [문자 인코딩 - 위키백과, 우리 모두의 백과사전](https://ko.wikipedia.org/wiki/%EB%AC%B8%EC%9E%90_%EC%9D%B8%EC%BD%94%EB%94%A9)\n",
        "- [파일을 열거나 저장할 때 텍스트 인코딩 선택](https://support.microsoft.com/ko-kr/office/%ED%8C%8C%EC%9D%BC%EC%9D%84-%EC%97%B4%EA%B1%B0%EB%82%98-%EC%A0%80%EC%9E%A5%ED%95%A0-%EB%95%8C-%ED%85%8D%EC%8A%A4%ED%8A%B8-%EC%9D%B8%EC%BD%94%EB%94%A9-%EC%84%A0%ED%83%9D-60d59e0d-cfe0-43c2-8b89-dad5f54d01a6)"
      ],
      "metadata": {
        "id": "_guaMpPqzdJ-"
      }
    },
    {
      "cell_type": "code",
      "source": [
        "import pandas as pd\n",
        "\n",
        "data_url = \"your_data_link_here.csv\"\n",
        "\n",
        "try:\n",
        "    df = pd.read_csv(data_url, encoding=\"cp949\")\n",
        "except Exception as e:\n",
        "    print(f\"Error: {e}\")\n",
        "    print(\"데이터를 불러오는데 실패했습니다. 링크 또는 파일 경로를 확인해주세요.\")\n",
        "\n",
        "# 데이터 기본 정보 확인\n",
        "print(df.head())\n",
        "print(df.info())\n",
        "print(df.describe())\n"
      ],
      "metadata": {
        "id": "SUTWem4xxi8X"
      },
      "execution_count": null,
      "outputs": []
    }
  ]
}